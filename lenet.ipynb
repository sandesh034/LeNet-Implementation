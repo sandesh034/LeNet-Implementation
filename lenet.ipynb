{
 "cells": [
  {
   "cell_type": "code",
   "execution_count": 36,
   "id": "3b9a6a71",
   "metadata": {},
   "outputs": [],
   "source": [
    "import torch \n",
    "import torch.nn as nn\n",
    "import matplotlib.pyplot as plt\n",
    "from torchvision import datasets\n",
    "from torchvision import transforms\n",
    "from torchinfo import summary\n",
    "from torch.utils.data import DataLoader, Dataset\n"
   ]
  },
  {
   "cell_type": "code",
   "execution_count": 37,
   "id": "51f13cb2",
   "metadata": {},
   "outputs": [
    {
     "data": {
      "text/plain": [
       "device(type='cuda')"
      ]
     },
     "execution_count": 37,
     "metadata": {},
     "output_type": "execute_result"
    }
   ],
   "source": [
    "device= torch.device(\"cuda\" if torch.cuda.is_available() else \"cpu\")\n",
    "device"
   ]
  },
  {
   "cell_type": "code",
   "execution_count": 38,
   "id": "a6a40524",
   "metadata": {},
   "outputs": [
    {
     "name": "stdout",
     "output_type": "stream",
     "text": [
      "Mon Jun  2 19:32:17 2025       \n",
      "+-----------------------------------------------------------------------------------------+\n",
      "| NVIDIA-SMI 565.90                 Driver Version: 565.90         CUDA Version: 12.7     |\n",
      "|-----------------------------------------+------------------------+----------------------+\n",
      "| GPU  Name                  Driver-Model | Bus-Id          Disp.A | Volatile Uncorr. ECC |\n",
      "| Fan  Temp   Perf          Pwr:Usage/Cap |           Memory-Usage | GPU-Util  Compute M. |\n",
      "|                                         |                        |               MIG M. |\n",
      "|=========================================+========================+======================|\n",
      "|   0  NVIDIA GeForce RTX 4050 ...  WDDM  |   00000000:01:00.0 Off |                  N/A |\n",
      "| N/A   45C    P8              5W /   35W |       0MiB /   6141MiB |      0%      Default |\n",
      "|                                         |                        |                  N/A |\n",
      "+-----------------------------------------+------------------------+----------------------+\n",
      "                                                                                         \n",
      "+-----------------------------------------------------------------------------------------+\n",
      "| Processes:                                                                              |\n",
      "|  GPU   GI   CI        PID   Type   Process name                              GPU Memory |\n",
      "|        ID   ID                                                               Usage      |\n",
      "|=========================================================================================|\n",
      "|    0   N/A  N/A     46728      C   ...niconda\\envs\\pytorch_env\\python.exe      N/A      |\n",
      "+-----------------------------------------------------------------------------------------+\n"
     ]
    }
   ],
   "source": [
    "!nvidia-smi"
   ]
  },
  {
   "cell_type": "code",
   "execution_count": 39,
   "id": "0623de5b",
   "metadata": {},
   "outputs": [],
   "source": [
    "class Lenet(nn.Module):\n",
    "    def __init__(self,num_classes):\n",
    "        super().__init__()\n",
    "        self.model=nn.Sequential(\n",
    "            # Layer-1 (C1)\n",
    "            nn.Conv2d(1,6,kernel_size=5),\n",
    "            nn.Tanh(),\n",
    "            # Layer-2 (S1)\n",
    "            nn.AvgPool2d(kernel_size=2, stride=2),\n",
    "            # Layer-3 (C2)\n",
    "            nn.Conv2d(6,16,kernel_size=5),\n",
    "            nn.Tanh(),\n",
    "            # Layer-4 (S4)\n",
    "            nn.AvgPool2d(kernel_size=2,stride=2),\n",
    "            # Layer-5 (Flatten and Linear)\n",
    "            nn.Flatten(),\n",
    "            nn.Linear(400,120, bias=True),\n",
    "            nn.Tanh(),\n",
    "            # Layer-6 (Linear) \n",
    "            nn.Linear(120,84,bias=True),\n",
    "            nn.Tanh(),\n",
    "            # Layer-7 (Linear)\n",
    "            nn.Linear(84,num_classes,bias=True)\n",
    "             \n",
    "        )\n",
    "    \n",
    "    def forward(self,x):\n",
    "        return self.model(x)\n",
    "    "
   ]
  },
  {
   "cell_type": "markdown",
   "id": "1826f7d9",
   "metadata": {},
   "source": [
    "### LeNet-5 Implementation on MNIST Dataset"
   ]
  },
  {
   "cell_type": "code",
   "execution_count": 40,
   "id": "9b1b6c9d",
   "metadata": {},
   "outputs": [],
   "source": [
    "transform=transforms.Compose([\n",
    "    transforms.Resize((32,32)),\n",
    "    transforms.ToTensor(),\n",
    "    transforms.Normalize(0.1383,0.2935)\n",
    "    \n",
    "])\n",
    "\n",
    "training_dataset=datasets.MNIST(\n",
    "    root='./data',\n",
    "    train=True,\n",
    "    download=True,\n",
    "    transform=transform\n",
    ")\n",
    "\n",
    "testing_dataset=datasets.MNIST(\n",
    "    root='./data',\n",
    "    train=False,\n",
    "    download=True,\n",
    "    transform=transform\n",
    ")"
   ]
  },
  {
   "cell_type": "code",
   "execution_count": null,
   "id": "bc63f6ac",
   "metadata": {},
   "outputs": [
    {
     "name": "stdout",
     "output_type": "stream",
     "text": [
      "Mean: 0.1383846551179886, Std: 0.29352882504463196\n"
     ]
    }
   ],
   "source": [
    "\n",
    "# Compute mean and std for normalization\n",
    "\n",
    "# training_loader = DataLoader(training_dataset, batch_size=64, shuffle=True)\n",
    "# images, _ = next(iter(training_dataset))\n",
    "# mean = images.mean().item()\n",
    "# std = images.std().item()\n",
    "\n",
    "# print(f\"Mean: {mean}, Std: {std}\")\n"
   ]
  },
  {
   "cell_type": "code",
   "execution_count": 41,
   "id": "e77035c0",
   "metadata": {},
   "outputs": [
    {
     "data": {
      "text/plain": [
       "2"
      ]
     },
     "execution_count": 41,
     "metadata": {},
     "output_type": "execute_result"
    }
   ],
   "source": [
    "len(training_dataset[0])"
   ]
  },
  {
   "cell_type": "code",
   "execution_count": 8,
   "id": "d048d8d6",
   "metadata": {},
   "outputs": [
    {
     "data": {
      "text/plain": [
       "tuple"
      ]
     },
     "execution_count": 8,
     "metadata": {},
     "output_type": "execute_result"
    }
   ],
   "source": [
    "type(training_dataset[0])"
   ]
  },
  {
   "cell_type": "code",
   "execution_count": 9,
   "id": "06a1e526",
   "metadata": {},
   "outputs": [
    {
     "data": {
      "text/plain": [
       "torch.Size([1, 32, 32])"
      ]
     },
     "execution_count": 9,
     "metadata": {},
     "output_type": "execute_result"
    }
   ],
   "source": [
    "training_dataset[0][0].shape"
   ]
  },
  {
   "cell_type": "code",
   "execution_count": 42,
   "id": "69a17b00",
   "metadata": {},
   "outputs": [
    {
     "name": "stdout",
     "output_type": "stream",
     "text": [
      "Unique labels: [0, 1, 2, 3, 4, 5, 6, 7, 8, 9]\n",
      "Number of unique labels: 10\n",
      "Min label: 0\n",
      "Max label: 9\n"
     ]
    }
   ],
   "source": [
    "# Check unique labels in the training dataset\n",
    "labels = [training_dataset[i][1] for i in range(len(training_dataset))]\n",
    "unique_labels = set(labels)\n",
    "print(\"Unique labels:\", sorted(unique_labels))\n",
    "print(\"Number of unique labels:\", len(unique_labels))\n",
    "print(\"Min label:\", min(unique_labels))\n",
    "print(\"Max label:\", max(unique_labels))"
   ]
  },
  {
   "cell_type": "code",
   "execution_count": 43,
   "id": "dcb5d943",
   "metadata": {},
   "outputs": [
    {
     "data": {
      "image/png": "[encoded data removed]",
      "text/plain": [
       "<Figure size 1000x1000 with 9 Axes>"
      ]
     },
     "metadata": {},
     "output_type": "display_data"
    }
   ],
   "source": [
    "label_map={\n",
    "    0: \"0\",\n",
    "    1: \"1\",\n",
    "    2: \"2\",\n",
    "    3: \"3\",\n",
    "    4: \"4\",\n",
    "    5: \"5\",\n",
    "    6: \"6\",\n",
    "    7: \"7\",\n",
    "    8: \"8\",\n",
    "    9: \"9\"\n",
    "}\n",
    "\n",
    "rows, cols =3,3\n",
    "figure= plt.figure(figsize=(10, 10))\n",
    "for i in range(1, rows * cols + 1):\n",
    "    sample_idx = torch.randint(len(training_dataset), size=(1,)).item()\n",
    "    img, label = training_dataset[sample_idx]\n",
    "    figure.add_subplot(rows, cols, i)\n",
    "    plt.title(label_map[label])\n",
    "    plt.axis(\"off\")\n",
    "    plt.imshow(img.reshape(32,32), cmap=\"gray\")"
   ]
  },
  {
   "cell_type": "code",
   "execution_count": 44,
   "id": "4be185b0",
   "metadata": {},
   "outputs": [],
   "source": [
    "train_loader=DataLoader(\n",
    "    dataset=training_dataset,\n",
    "    batch_size=64,\n",
    "    shuffle=True\n",
    ")\n",
    "\n",
    "test_loader=DataLoader(\n",
    "    dataset=testing_dataset,\n",
    "    batch_size=64,\n",
    "    shuffle=False\n",
    ")"
   ]
  },
  {
   "cell_type": "code",
   "execution_count": 45,
   "id": "3041cc04",
   "metadata": {},
   "outputs": [],
   "source": [
    "model=Lenet(num_classes=10).to(device)\n",
    "epochs=20\n",
    "learning_rate=0.001\n",
    "criterion=torch.nn.CrossEntropyLoss()\n",
    "optimizer=torch.optim.SGD(params=model.parameters(),lr=learning_rate)"
   ]
  },
  {
   "cell_type": "code",
   "execution_count": 46,
   "id": "751717c4",
   "metadata": {},
   "outputs": [
    {
     "data": {
      "text/plain": [
       "==========================================================================================\n",
       "Layer (type:depth-idx)                   Output Shape              Param #\n",
       "==========================================================================================\n",
       "Lenet                                    [64, 10]                  --\n",
       "├─Sequential: 1-1                        [64, 10]                  --\n",
       "│    └─Conv2d: 2-1                       [64, 6, 28, 28]           156\n",
       "│    └─Tanh: 2-2                         [64, 6, 28, 28]           --\n",
       "│    └─AvgPool2d: 2-3                    [64, 6, 14, 14]           --\n",
       "│    └─Conv2d: 2-4                       [64, 16, 10, 10]          2,416\n",
       "│    └─Tanh: 2-5                         [64, 16, 10, 10]          --\n",
       "│    └─AvgPool2d: 2-6                    [64, 16, 5, 5]            --\n",
       "│    └─Flatten: 2-7                      [64, 400]                 --\n",
       "│    └─Linear: 2-8                       [64, 120]                 48,120\n",
       "│    └─Tanh: 2-9                         [64, 120]                 --\n",
       "│    └─Linear: 2-10                      [64, 84]                  10,164\n",
       "│    └─Tanh: 2-11                        [64, 84]                  --\n",
       "│    └─Linear: 2-12                      [64, 10]                  850\n",
       "==========================================================================================\n",
       "Total params: 61,706\n",
       "Trainable params: 61,706\n",
       "Non-trainable params: 0\n",
       "Total mult-adds (M): 27.07\n",
       "==========================================================================================\n",
       "Input size (MB): 0.26\n",
       "Forward/backward pass size (MB): 3.34\n",
       "Params size (MB): 0.25\n",
       "Estimated Total Size (MB): 3.85\n",
       "=========================================================================================="
      ]
     },
     "execution_count": 46,
     "metadata": {},
     "output_type": "execute_result"
    }
   ],
   "source": [
    "summary(model, input_size=(64, 1, 32, 32), device=device.type)"
   ]
  },
  {
   "cell_type": "code",
   "execution_count": 47,
   "id": "62d2fcdb",
   "metadata": {},
   "outputs": [
    {
     "name": "stdout",
     "output_type": "stream",
     "text": [
      "Epoch [1/20], Avg Loss: 2.2490\n",
      "Epoch [2/20], Avg Loss: 2.0923\n",
      "Epoch [3/20], Avg Loss: 1.7765\n",
      "Epoch [4/20], Avg Loss: 1.4049\n",
      "Epoch [5/20], Avg Loss: 1.1078\n",
      "Epoch [6/20], Avg Loss: 0.9128\n",
      "Epoch [7/20], Avg Loss: 0.7841\n",
      "Epoch [8/20], Avg Loss: 0.6943\n",
      "Epoch [9/20], Avg Loss: 0.6282\n",
      "Epoch [10/20], Avg Loss: 0.5774\n",
      "Epoch [11/20], Avg Loss: 0.5369\n",
      "Epoch [12/20], Avg Loss: 0.5038\n",
      "Epoch [13/20], Avg Loss: 0.4763\n",
      "Epoch [14/20], Avg Loss: 0.4528\n",
      "Epoch [15/20], Avg Loss: 0.4326\n",
      "Epoch [16/20], Avg Loss: 0.4151\n",
      "Epoch [17/20], Avg Loss: 0.3998\n",
      "Epoch [18/20], Avg Loss: 0.3860\n",
      "Epoch [19/20], Avg Loss: 0.3737\n",
      "Epoch [20/20], Avg Loss: 0.3627\n"
     ]
    }
   ],
   "source": [
    "training_loss = []\n",
    "for epoch in range(epochs):\n",
    "    total_loss = 0\n",
    "    num_batches = 0\n",
    "    model.train()\n",
    "    \n",
    "    for features, labels in train_loader:\n",
    "        features = features.to(device)\n",
    "        labels = labels.to(device)\n",
    "        output = model(features)\n",
    "        loss = criterion(output, labels)\n",
    "        optimizer.zero_grad()\n",
    "        loss.backward()\n",
    "        optimizer.step()\n",
    "        \n",
    "        total_loss += loss.item()\n",
    "        num_batches += 1\n",
    "    \n",
    "    avg_loss = total_loss / num_batches\n",
    "    training_loss.append(avg_loss)\n",
    "    print(f\"Epoch [{epoch+1}/{epochs}], Avg Loss: {avg_loss:.4f}\")"
   ]
  },
  {
   "cell_type": "code",
   "execution_count": 48,
   "id": "f2de5b4a",
   "metadata": {},
   "outputs": [
    {
     "data": {
      "text/plain": [
       "[<matplotlib.lines.Line2D at 0x22e2b331460>]"
      ]
     },
     "execution_count": 48,
     "metadata": {},
     "output_type": "execute_result"
    },
    {
     "data": {
      "image/png": "[encoded data removed]",
      "text/plain": [
       "<Figure size 1000x500 with 1 Axes>"
      ]
     },
     "metadata": {},
     "output_type": "display_data"
    }
   ],
   "source": [
    "plt.figure(figsize=(10, 5))\n",
    "plt.title(\"Training Loss Over Epochs on MNIST Dataset\")\n",
    "plt.xlabel(\"Epochs\")\n",
    "plt.ylabel(\"Loss\")\n",
    "\n",
    "plt.plot(training_loss)"
   ]
  },
  {
   "cell_type": "code",
   "execution_count": 49,
   "id": "655f3507",
   "metadata": {},
   "outputs": [
    {
     "name": "stdout",
     "output_type": "stream",
     "text": [
      "Accuracy of the model on the test set: 90.58%\n"
     ]
    }
   ],
   "source": [
    "correct = 0\n",
    "total = 0\n",
    "\n",
    "with torch.no_grad():\n",
    "    model.eval()\n",
    "    for features, labels in test_loader:\n",
    "        features = features.to(device)\n",
    "        labels = labels.to(device)\n",
    "        outputs = model(features)\n",
    "        _, predicted = torch.max(outputs.data, 1)\n",
    "        total += labels.size(0)\n",
    "        correct += (predicted == labels).sum().item()\n",
    "\n",
    "accuracy = 100 * correct / total\n",
    "print(f'Accuracy of the model on the test set: {accuracy:.2f}%')\n"
   ]
  },
  {
   "cell_type": "markdown",
   "id": "080f65fd",
   "metadata": {},
   "source": [
    "### LeNet-5 Implementation on EMNIST Dataset"
   ]
  },
  {
   "cell_type": "code",
   "execution_count": null,
   "id": "7967a4c2",
   "metadata": {},
   "outputs": [
    {
     "name": "stdout",
     "output_type": "stream",
     "text": [
      "Unique labels: [1, 2, 3, 4, 5, 6, 7, 8, 9, 10, 11, 12, 13, 14, 15, 16, 17, 18, 19, 20, 21, 22, 23, 24, 25, 26]\n",
      "Number of unique labels: 26\n",
      "Min label: 1\n",
      "Max label: 26\n"
     ]
    },
    {
     "data": {
      "image/png": "[encoded data removed]",
      "text/plain": [
       "<Figure size 1000x1000 with 9 Axes>"
      ]
     },
     "metadata": {},
     "output_type": "display_data"
    }
   ],
   "source": [
    "EMNIST_transform=transforms.Compose([\n",
    "    transforms.Resize((32,32)),\n",
    "    transforms.ToTensor(),\n",
    "    \n",
    "    \n",
    "])\n",
    "\n",
    "training_dataset=datasets.EMNIST(\n",
    "    root='./data',\n",
    "    train=True,\n",
    "    split='letters',\n",
    "    download=True,\n",
    "    transform=EMNIST_transform\n",
    ")\n",
    "\n",
    "testing_dataset=datasets.EMNIST(\n",
    "    root='./data',\n",
    "    train=False,\n",
    "    split='letters',\n",
    "    download=True,\n",
    "    transform=EMNIST_transform\n",
    "\n",
    ")\n",
    "\n",
    "# Check unique labels in the training dataset\n",
    "labels = [training_dataset[i][1] for i in range(len(training_dataset))]\n",
    "unique_labels = set(labels)\n",
    "print(\"Unique labels:\", sorted(unique_labels))\n",
    "print(\"Number of unique labels:\", len(unique_labels))\n",
    "print(\"Min label:\", min(unique_labels))\n",
    "print(\"Max label:\", max(unique_labels))\n",
    "\n",
    "\n",
    "from torch.utils.data import Dataset, DataLoader\n",
    "\n",
    "class ZeroIndexedEMNIST(Dataset):\n",
    "    def __init__(self, emnist_dataset):\n",
    "        self.emnist_dataset = emnist_dataset\n",
    "\n",
    "    def __getitem__(self, idx):\n",
    "        img, label = self.emnist_dataset[idx]\n",
    "        return img, label - 1  # Convert 1-26 to 0-25\n",
    "\n",
    "    def __len__(self):\n",
    "        return len(self.emnist_dataset)\n",
    "\n",
    "train_dataset = ZeroIndexedEMNIST(training_dataset)\n",
    "test_dataset = ZeroIndexedEMNIST(testing_dataset)\n",
    "\n",
    "train_loader = DataLoader(train_dataset, batch_size=64, shuffle=True)\n",
    "test_loader = DataLoader(test_dataset, batch_size=64, shuffle=True)\n",
    "\n",
    "\n",
    "label_map={\n",
    "    0: 'A',\n",
    "    1: 'B',\n",
    "    2: 'C',\n",
    "    3: 'D',\n",
    "    4: 'E',\n",
    "    5: 'F',\n",
    "    6: 'G',\n",
    "    7: 'H',\n",
    "    8: 'I',\n",
    "    9: 'J',\n",
    "    10: 'K',\n",
    "    11: 'L',\n",
    "    12: 'M',\n",
    "    13: 'N',\n",
    "    14: 'O',\n",
    "    15: 'P',\n",
    "    16: 'Q',\n",
    "    17: 'R',\n",
    "    18: 'S',\n",
    "    19: 'T',\n",
    "    20: 'U',\n",
    "    21: 'V',\n",
    "    22: 'W',\n",
    "    23: 'X',\n",
    "    24: 'Y',\n",
    "    25: 'Z'\n",
    "}\n",
    "\n",
    "rows, cols =3,3\n",
    "figure= plt.figure(figsize=(10, 10))\n",
    "for i in range(1, rows * cols + 1):\n",
    "    sample_idx = torch.randint(len(train_dataset), size=(1,)).item()\n",
    "    img, label = train_dataset[sample_idx]\n",
    "    figure.add_subplot(rows, cols, i)\n",
    "    plt.title(label_map[label])\n",
    "    plt.axis(\"off\")\n",
    "    plt.imshow(img.reshape(32,32), cmap=\"gray\")\n",
    "\n",
    "\n",
    "model=Lenet(num_classes=26).to(device)\n",
    "epochs=20\n",
    "learning_rate=0.001\n",
    "criterion=torch.nn.CrossEntropyLoss()\n",
    "optimizer=torch.optim.SGD(params=model.parameters(),lr=learning_rate)\n",
    "\n"
   ]
  },
  {
   "cell_type": "code",
   "execution_count": 19,
   "id": "f81a01f6",
   "metadata": {},
   "outputs": [
    {
     "data": {
      "text/plain": [
       "==========================================================================================\n",
       "Layer (type:depth-idx)                   Output Shape              Param #\n",
       "==========================================================================================\n",
       "Lenet                                    [64, 26]                  --\n",
       "├─Sequential: 1-1                        [64, 26]                  --\n",
       "│    └─Conv2d: 2-1                       [64, 6, 28, 28]           156\n",
       "│    └─Tanh: 2-2                         [64, 6, 28, 28]           --\n",
       "│    └─AvgPool2d: 2-3                    [64, 6, 14, 14]           --\n",
       "│    └─Conv2d: 2-4                       [64, 16, 10, 10]          2,416\n",
       "│    └─Tanh: 2-5                         [64, 16, 10, 10]          --\n",
       "│    └─AvgPool2d: 2-6                    [64, 16, 5, 5]            --\n",
       "│    └─Flatten: 2-7                      [64, 400]                 --\n",
       "│    └─Linear: 2-8                       [64, 120]                 48,120\n",
       "│    └─Tanh: 2-9                         [64, 120]                 --\n",
       "│    └─Linear: 2-10                      [64, 84]                  10,164\n",
       "│    └─Tanh: 2-11                        [64, 84]                  --\n",
       "│    └─Linear: 2-12                      [64, 26]                  2,210\n",
       "==========================================================================================\n",
       "Total params: 63,066\n",
       "Trainable params: 63,066\n",
       "Non-trainable params: 0\n",
       "Total mult-adds (M): 27.16\n",
       "==========================================================================================\n",
       "Input size (MB): 0.26\n",
       "Forward/backward pass size (MB): 3.35\n",
       "Params size (MB): 0.25\n",
       "Estimated Total Size (MB): 3.86\n",
       "=========================================================================================="
      ]
     },
     "execution_count": 19,
     "metadata": {},
     "output_type": "execute_result"
    }
   ],
   "source": [
    "summary(model, input_size=(64, 1, 32, 32), device=device.type)"
   ]
  },
  {
   "cell_type": "code",
   "execution_count": 20,
   "id": "76a8d6db",
   "metadata": {},
   "outputs": [
    {
     "name": "stdout",
     "output_type": "stream",
     "text": [
      "Epoch [1/20], Avg Loss: 3.2567\n",
      "Epoch [2/20], Avg Loss: 3.2419\n",
      "Epoch [3/20], Avg Loss: 3.2070\n",
      "Epoch [4/20], Avg Loss: 3.0948\n",
      "Epoch [5/20], Avg Loss: 2.8026\n",
      "Epoch [6/20], Avg Loss: 2.4628\n",
      "Epoch [7/20], Avg Loss: 2.2025\n",
      "Epoch [8/20], Avg Loss: 2.0061\n",
      "Epoch [9/20], Avg Loss: 1.8528\n",
      "Epoch [10/20], Avg Loss: 1.7299\n",
      "Epoch [11/20], Avg Loss: 1.6299\n",
      "Epoch [12/20], Avg Loss: 1.5470\n",
      "Epoch [13/20], Avg Loss: 1.4767\n",
      "Epoch [14/20], Avg Loss: 1.4156\n",
      "Epoch [15/20], Avg Loss: 1.3617\n",
      "Epoch [16/20], Avg Loss: 1.3134\n",
      "Epoch [17/20], Avg Loss: 1.2694\n",
      "Epoch [18/20], Avg Loss: 1.2290\n",
      "Epoch [19/20], Avg Loss: 1.1917\n",
      "Epoch [20/20], Avg Loss: 1.1568\n"
     ]
    }
   ],
   "source": [
    "training_loss = []\n",
    "for epoch in range(epochs):\n",
    "    total_loss = 0\n",
    "    num_batches = 0\n",
    "    model.train()\n",
    "    \n",
    "    for features, labels in train_loader:\n",
    "        features = features.to(device)\n",
    "        labels = labels.to(device)\n",
    "        output = model(features)\n",
    "        loss = criterion(output, labels)\n",
    "        optimizer.zero_grad()\n",
    "        loss.backward()\n",
    "        optimizer.step()\n",
    "        \n",
    "        total_loss += loss.item()\n",
    "        num_batches += 1\n",
    "    \n",
    "    avg_loss = total_loss / num_batches\n",
    "    training_loss.append(avg_loss)\n",
    "    print(f\"Epoch [{epoch+1}/{epochs}], Avg Loss: {avg_loss:.4f}\")"
   ]
  },
  {
   "cell_type": "code",
   "execution_count": 21,
   "id": "a8998402",
   "metadata": {},
   "outputs": [
    {
     "data": {
      "text/plain": [
       "[<matplotlib.lines.Line2D at 0x22e2b2bdc10>]"
      ]
     },
     "execution_count": 21,
     "metadata": {},
     "output_type": "execute_result"
    },
    {
     "data": {
      "image/png": "[encoded data removed]",
      "text/plain": [
       "<Figure size 1000x500 with 1 Axes>"
      ]
     },
     "metadata": {},
     "output_type": "display_data"
    }
   ],
   "source": [
    "plt.figure(figsize=(10, 5))\n",
    "plt.title(\"Training Loss Over Epochs for EMNIST Dataset\")\n",
    "plt.xlabel(\"Epochs\")\n",
    "plt.ylabel(\"Loss\")\n",
    "\n",
    "plt.plot(training_loss)"
   ]
  },
  {
   "cell_type": "code",
   "execution_count": 22,
   "id": "8394aa43",
   "metadata": {},
   "outputs": [
    {
     "name": "stdout",
     "output_type": "stream",
     "text": [
      "Accuracy of the model on the test set: 67.22%\n"
     ]
    }
   ],
   "source": [
    "correct = 0\n",
    "total = 0\n",
    "\n",
    "with torch.no_grad():\n",
    "    model.eval()\n",
    "    for features, labels in test_loader:\n",
    "        features = features.to(device)\n",
    "        labels = labels.to(device)\n",
    "        outputs = model(features)\n",
    "        _, predicted = torch.max(outputs.data, 1)\n",
    "        total += labels.size(0)\n",
    "        correct += (predicted == labels).sum().item()\n",
    "\n",
    "accuracy = 100 * correct / total\n",
    "print(f'Accuracy of the model on the test set: {accuracy:.2f}%')\n"
   ]
  }
 ],
 "metadata": {
  "kernelspec": {
   "display_name": "pytorch_env",
   "language": "python",
   "name": "python3"
  },
  "language_info": {
   "codemirror_mode": {
    "name": "ipython",
    "version": 3
   },
   "file_extension": ".py",
   "mimetype": "text/x-python",
   "name": "python",
   "nbconvert_exporter": "python",
   "pygments_lexer": "ipython3",
   "version": "3.9.20"
  }
 },
 "nbformat": 4,
 "nbformat_minor": 5
}
